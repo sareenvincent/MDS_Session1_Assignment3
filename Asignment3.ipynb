{
 "cells": [
  {
   "cell_type": "code",
   "execution_count": 1,
   "metadata": {},
   "outputs": [
    {
     "name": "stdout",
     "output_type": "stream",
     "text": [
      "Enter First Name: \n",
      "Ram\n",
      "Enter Second Name: \n",
      "Singh\n",
      "hgniS maR\n"
     ]
    }
   ],
   "source": [
    "print(\"Enter First Name: \")\n",
    "FirstName=input()\n",
    "print(\"Enter Second Name: \")\n",
    "SecondName=input()\n",
    "print(SecondName[::-1]+\" \" +FirstName[::-1])\n"
   ]
  }
 ],
 "metadata": {
  "kernelspec": {
   "display_name": "Python 3",
   "language": "python",
   "name": "python3"
  },
  "language_info": {
   "codemirror_mode": {
    "name": "ipython",
    "version": 3
   },
   "file_extension": ".py",
   "mimetype": "text/x-python",
   "name": "python",
   "nbconvert_exporter": "python",
   "pygments_lexer": "ipython3",
   "version": "3.6.4"
  }
 },
 "nbformat": 4,
 "nbformat_minor": 2
}
